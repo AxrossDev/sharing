{
  "nbformat": 4,
  "nbformat_minor": 0,
  "metadata": {
    "colab": {
      "name": "Axross_Dev.ipynb",
      "provenance": []
    },
    "kernelspec": {
      "name": "python3",
      "display_name": "Python 3"
    },
    "language_info": {
      "name": "python"
    }
  },
  "cells": [
    {
      "cell_type": "code",
      "metadata": {
        "colab": {
          "base_uri": "https://localhost:8080/"
        },
        "id": "BTNVgIfaY74j",
        "outputId": "ef72cc8c-9d6e-41a4-a24d-3e42c794929b"
      },
      "source": [
        "# 下記の入力フィールドにプログラムを打ち込んだ後、左の実行ボタンを押すことで入力したコードを実行できます。\n",
        "# 実行時に警告画面が表示される場合がありますが、「このまま実行」をクリックしてください。\n",
        "\n",
        "print(\"Hello Axross\")"
      ],
      "execution_count": null,
      "outputs": [
        {
          "output_type": "stream",
          "text": [
            "Hello Axross\n"
          ],
          "name": "stdout"
        }
      ]
    },
    {
      "cell_type": "code",
      "metadata": {
        "id": "r1FEaCsxgMEK"
      },
      "source": [
        ""
      ],
      "execution_count": null,
      "outputs": []
    }
  ]
}