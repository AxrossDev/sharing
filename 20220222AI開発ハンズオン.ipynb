{
  "nbformat": 4,
  "nbformat_minor": 0,
  "metadata": {
    "colab": {
      "name": "20220222AI開発ハンズオン.ipynb",
      "provenance": [],
      "collapsed_sections": []
    },
    "kernelspec": {
      "name": "python3",
      "display_name": "Python 3"
    },
    "language_info": {
      "name": "python"
    },
    "accelerator": "GPU"
  },
  "cells": [
    {
      "cell_type": "code",
      "execution_count": null,
      "metadata": {
        "id": "wHquSfCT7D5S"
      },
      "outputs": [],
      "source": [
        "# Flickrライブラリのインストール\n",
        "!pip install flickrapi"
      ]
    },
    {
      "cell_type": "code",
      "source": [
        "#  必要ライブラリのインポート\n",
        "import os\n",
        "import time\n",
        "from urllib.request import urlretrieve\n",
        "from flickrapi import FlickrAPI\n",
        "from tqdm import tqdm"
      ],
      "metadata": {
        "id": "j7yPanbA7WnS"
      },
      "execution_count": null,
      "outputs": []
    }
  ]
}