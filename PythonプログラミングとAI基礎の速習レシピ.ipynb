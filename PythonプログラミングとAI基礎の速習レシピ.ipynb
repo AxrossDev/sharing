{
  "nbformat": 4,
  "nbformat_minor": 0,
  "metadata": {
    "colab": {
      "name": "PythonプログラミングとAI基礎の速習レシピ.ipynb",
      "provenance": []
    },
    "kernelspec": {
      "name": "python3",
      "display_name": "Python 3"
    },
    "language_info": {
      "name": "python"
    }
  },
  "cells": [
    {
      "cell_type": "markdown",
      "source": [
        "## Pythonの基本文法を試す"
      ],
      "metadata": {
        "id": "ZFKsaTa1Rb8h"
      }
    },
    {
      "cell_type": "code",
      "execution_count": 1,
      "metadata": {
        "colab": {
          "base_uri": "https://localhost:8080/"
        },
        "id": "j4jzvOIARWYw",
        "outputId": "7b0baa4c-e006-486a-9117-274b5b2dd2fc"
      },
      "outputs": [
        {
          "output_type": "stream",
          "name": "stdout",
          "text": [
            "Hello World\n"
          ]
        }
      ],
      "source": [
        "print(\"Hello World\")"
      ]
    },
    {
      "cell_type": "markdown",
      "source": [
        "コメント"
      ],
      "metadata": {
        "id": "yVdo12ncTGQT"
      }
    },
    {
      "cell_type": "code",
      "source": [
        "# この行はコメントなので、実行されません"
      ],
      "metadata": {
        "id": "gLUHsL03RevP"
      },
      "execution_count": 2,
      "outputs": []
    },
    {
      "cell_type": "markdown",
      "source": [
        "数値"
      ],
      "metadata": {
        "id": "nUhxq1N4TMEL"
      }
    },
    {
      "cell_type": "code",
      "source": [
        "print(3) # 数値はクォーテーションで囲む必要はありません。\n",
        "print(4 + 2) # 加算\n",
        "print(5 - 2)  # 減算\n",
        "print(8 * 2)  # 乗算\n",
        "print(6 / 2)   # 徐算\n",
        "print(10 % 5)   # 剰余\n",
        "print(10**2)  #べき乗\n",
        "\n",
        "# 優先順位の変更\n",
        "# 通常は +と-よりも*や/の方が優先度が高いですが、()で囲むことで優先度を変えることができます。\n",
        "print((18 - 3) // 3)  # 5 #(//) 切り捨て乗算"
      ],
      "metadata": {
        "colab": {
          "base_uri": "https://localhost:8080/"
        },
        "id": "wltbJs5BRjXX",
        "outputId": "b500c3ae-8ebb-4071-f7b0-74e3ab8d80dd"
      },
      "execution_count": 3,
      "outputs": [
        {
          "output_type": "stream",
          "name": "stdout",
          "text": [
            "3\n",
            "6\n",
            "3\n",
            "16\n",
            "3.0\n",
            "0\n",
            "100\n",
            "5\n"
          ]
        }
      ]
    },
    {
      "cell_type": "markdown",
      "source": [
        "文字列と数列の違い"
      ],
      "metadata": {
        "id": "Rdfy9XlQTpR1"
      }
    },
    {
      "cell_type": "code",
      "source": [
        "print(5 + 5) # 10\n",
        "print('5 + 5') # '5 + 5'"
      ],
      "metadata": {
        "colab": {
          "base_uri": "https://localhost:8080/"
        },
        "id": "H98PxW7cRlfh",
        "outputId": "4730784e-7773-4758-dd11-d59b398cc9e5"
      },
      "execution_count": 4,
      "outputs": [
        {
          "output_type": "stream",
          "name": "stdout",
          "text": [
            "10\n",
            "5 + 5\n"
          ]
        }
      ]
    },
    {
      "cell_type": "markdown",
      "source": [
        "エラーについて"
      ],
      "metadata": {
        "id": "-JehcopCTtre"
      }
    },
    {
      "cell_type": "code",
      "source": [
        "print(python)"
      ],
      "metadata": {
        "colab": {
          "base_uri": "https://localhost:8080/",
          "height": 170
        },
        "id": "o1LFH8eQRnzK",
        "outputId": "6639aad8-cc04-48cb-f8e7-bb59726c0f6b"
      },
      "execution_count": 5,
      "outputs": [
        {
          "output_type": "error",
          "ename": "NameError",
          "evalue": "ignored",
          "traceback": [
            "\u001b[0;31m---------------------------------------------------------------------------\u001b[0m",
            "\u001b[0;31mNameError\u001b[0m                                 Traceback (most recent call last)",
            "\u001b[0;32m<ipython-input-5-3f83d545ebda>\u001b[0m in \u001b[0;36m<module>\u001b[0;34m()\u001b[0m\n\u001b[0;32m----> 1\u001b[0;31m \u001b[0mprint\u001b[0m\u001b[0;34m(\u001b[0m\u001b[0mpython\u001b[0m\u001b[0;34m)\u001b[0m\u001b[0;34m\u001b[0m\u001b[0;34m\u001b[0m\u001b[0m\n\u001b[0m",
            "\u001b[0;31mNameError\u001b[0m: name 'python' is not defined"
          ]
        }
      ]
    },
    {
      "cell_type": "markdown",
      "source": [
        "変数"
      ],
      "metadata": {
        "id": "gShZbCuRTwbI"
      }
    },
    {
      "cell_type": "code",
      "source": [
        "x = \"hello world\"\n",
        "y = 42\n",
        "\n",
        "print(x)\n",
        "print(y)\n",
        "\n",
        "y = 100 # 42から100に上書き\n",
        "print(y*3.14)"
      ],
      "metadata": {
        "colab": {
          "base_uri": "https://localhost:8080/"
        },
        "id": "dW-82eT2RprE",
        "outputId": "1ae29c7d-e540-4253-c024-ee6eccca4e33"
      },
      "execution_count": 6,
      "outputs": [
        {
          "output_type": "stream",
          "name": "stdout",
          "text": [
            "hello world\n",
            "42\n",
            "314.0\n"
          ]
        }
      ]
    },
    {
      "cell_type": "code",
      "source": [
        "print(18 + 1)\n",
        "print(18 - 2)\n",
        "print(18 * 3)\n",
        "print(18 / 4)\n",
        "print(18 % 5)"
      ],
      "metadata": {
        "colab": {
          "base_uri": "https://localhost:8080/"
        },
        "id": "FIi1P24ZRr9p",
        "outputId": "73e33396-8b91-473e-b325-9f6d86b7e16e"
      },
      "execution_count": 7,
      "outputs": [
        {
          "output_type": "stream",
          "name": "stdout",
          "text": [
            "19\n",
            "16\n",
            "54\n",
            "4.5\n",
            "3\n"
          ]
        }
      ]
    },
    {
      "cell_type": "code",
      "source": [
        "x = 120\n",
        "print(x + 1)\n",
        "print(x - 2)\n",
        "print(x * 3)\n",
        "print(x / 4)\n",
        "print(x % 5)"
      ],
      "metadata": {
        "colab": {
          "base_uri": "https://localhost:8080/"
        },
        "id": "I35Q8jvJRt7M",
        "outputId": "d84e7e90-e54a-4590-9d27-26bbb6e54886"
      },
      "execution_count": 8,
      "outputs": [
        {
          "output_type": "stream",
          "name": "stdout",
          "text": [
            "121\n",
            "118\n",
            "360\n",
            "30.0\n",
            "0\n"
          ]
        }
      ]
    },
    {
      "cell_type": "markdown",
      "source": [
        "## Pythonデータ型を理解する"
      ],
      "metadata": {
        "id": "C-FRTA7YSe_t"
      }
    },
    {
      "cell_type": "code",
      "source": [
        "print(type(11))\n",
        "print(type(\"Python\"))\n",
        "print(type(13.2))"
      ],
      "metadata": {
        "colab": {
          "base_uri": "https://localhost:8080/"
        },
        "id": "oBkG-bLMRv0d",
        "outputId": "76039db0-d2c5-4f94-84bc-17c1ca3823e6"
      },
      "execution_count": 9,
      "outputs": [
        {
          "output_type": "stream",
          "name": "stdout",
          "text": [
            "<class 'int'>\n",
            "<class 'str'>\n",
            "<class 'float'>\n"
          ]
        }
      ]
    },
    {
      "cell_type": "code",
      "source": [
        "a = 'I like python.' \n",
        "b = 'I\\'m good.' # I'mという短縮形を表現したい場合、mの直前の'は『文字列の終わりの綴じではないよ』というのをプログラムに認識してもらうために、\\を使います。\n",
        "c = \"I'm good.\" # ダブルクォーテーションで書いた場合は、\\は必要ありません。\n",
        "d = 'My freind said, \"I like PHP. but I like python better.\"' # ダブルクォーテーションをシングルクォーテーションで囲うこともできます。\n",
        "\n",
        "# 文字列の連結\n",
        "message = \"hello\" + \"world\"\n",
        "print(message)\n",
        "\n",
        "# 反復\n",
        "# * 演算子を使うことで繰り返すことができます。\n",
        "\n",
        "print(3 * \"hello\" + \"world\") # helloを3回 繰り返し、その後文字列worldと連結します\n",
        "\n",
        "message = \"hello\" + \"world\" # helloとworldを連結させた変数meessage\n",
        "print(message * 5) # 変数messageを5回掛け合わせます。"
      ],
      "metadata": {
        "colab": {
          "base_uri": "https://localhost:8080/"
        },
        "id": "4WJLL7N-RyJJ",
        "outputId": "21b1a493-0a64-4abb-a3d3-cecbdd0ed180"
      },
      "execution_count": 10,
      "outputs": [
        {
          "output_type": "stream",
          "name": "stdout",
          "text": [
            "helloworld\n",
            "hellohellohelloworld\n",
            "helloworldhelloworldhelloworldhelloworldhelloworld\n"
          ]
        }
      ]
    },
    {
      "cell_type": "markdown",
      "source": [
        "型変換"
      ],
      "metadata": {
        "id": "C1l-2uX8T2iQ"
      }
    },
    {
      "cell_type": "code",
      "source": [
        "a = int(1.0)\n",
        "print(10 - a)\n",
        "\n",
        "# print(\"python\" + 10)\n",
        "print(10 - int(\"5\"))\n",
        "print(\"hello\" + \"world\")"
      ],
      "metadata": {
        "colab": {
          "base_uri": "https://localhost:8080/"
        },
        "id": "J__xe0EMR0fk",
        "outputId": "9a69cd20-6025-4db9-c971-2384a33a745f"
      },
      "execution_count": 11,
      "outputs": [
        {
          "output_type": "stream",
          "name": "stdout",
          "text": [
            "9\n",
            "5\n",
            "helloworld\n"
          ]
        }
      ]
    },
    {
      "cell_type": "markdown",
      "source": [
        "リスト型"
      ],
      "metadata": {
        "id": "5I5lx5aiT4tv"
      }
    },
    {
      "cell_type": "code",
      "source": [
        "li = [1,2,3,4,5]\n",
        "print(li) # [1,2,3,4,5]が出力\n",
        "print(len(li)) # リストの要素数（長さ）を調べたい時にはlen()を使います。\n",
        "\"\"\"\n",
        "またlen()は、文字列型など様々なデータ型に利用でき、要素数を取得できます。\n",
        "\"\"\"\n",
        "s = \"python\"\n",
        "print(len(s)) # 6\n",
        "\n",
        "s2 = \"java\"\n",
        "print(len(s2)) # 4\n",
        "\n",
        "s3 = 'あいうえお'\n",
        "print(len(s3)) # 5"
      ],
      "metadata": {
        "colab": {
          "base_uri": "https://localhost:8080/"
        },
        "id": "rjBpIVNGR2aO",
        "outputId": "22404d72-d19c-4f37-d01f-f810cd0974ef"
      },
      "execution_count": 12,
      "outputs": [
        {
          "output_type": "stream",
          "name": "stdout",
          "text": [
            "[1, 2, 3, 4, 5]\n",
            "5\n",
            "6\n",
            "4\n",
            "5\n"
          ]
        }
      ]
    },
    {
      "cell_type": "code",
      "source": [
        "# 添え字  0 1 2 3 4 ...\n",
        "li = [1,2,3,4,5]\n",
        "print(li[0]) # 1が出力\n",
        "\n",
        "# リストはミュータブルなので、以下のように\n",
        "# 書き換えられる。 添え字0を100に変更\n",
        "li[0] = 100\n",
        "\n",
        "# 変更後のリスト(li)を出力\n",
        "print(li)\n",
        "\n",
        "# リストの連結\n",
        "li1 = [1, 2, 3]\n",
        "li2 = [4, 5, 6]\n",
        "\n",
        "li3 = li1 + li2\n",
        "print(li3) # [1, 2, 3, 4, 5, 6]"
      ],
      "metadata": {
        "colab": {
          "base_uri": "https://localhost:8080/"
        },
        "id": "cvQApdMgR9qs",
        "outputId": "7d663add-42df-4a28-de3f-b4e9dbe7923f"
      },
      "execution_count": 13,
      "outputs": [
        {
          "output_type": "stream",
          "name": "stdout",
          "text": [
            "1\n",
            "[100, 2, 3, 4, 5]\n",
            "[1, 2, 3, 4, 5, 6]\n"
          ]
        }
      ]
    },
    {
      "cell_type": "markdown",
      "source": [
        "スライス"
      ],
      "metadata": {
        "id": "9Fj7oqvZT-zM"
      }
    },
    {
      "cell_type": "code",
      "source": [
        "li = [1, 2, 3, 4]\n",
        "print(li[0: 4]) # [1, 2, 3, 4]\n",
        "print(li[: 4])  # [1, 2, 3, 4]\n",
        "print(li[-3:])  # [3, 4, 5]\n",
        "print(li[2: -1])# [3, 4]\n",
        "\n",
        "# 覚えておくと良い手法\n",
        "# 逆順\n",
        "print(li[::-1]) # [5, 4, 3, 2, 1]\n",
        "\n",
        "# 全ての要素を取得\n",
        "print(li[:])    #  [1, 2, 3, 4, 5]"
      ],
      "metadata": {
        "colab": {
          "base_uri": "https://localhost:8080/"
        },
        "id": "3MWkZAcESBe3",
        "outputId": "30deef39-5710-4924-a1a3-442a4af334c7"
      },
      "execution_count": 14,
      "outputs": [
        {
          "output_type": "stream",
          "name": "stdout",
          "text": [
            "[1, 2, 3, 4]\n",
            "[1, 2, 3, 4]\n",
            "[2, 3, 4]\n",
            "[3]\n",
            "[4, 3, 2, 1]\n",
            "[1, 2, 3, 4]\n"
          ]
        }
      ]
    },
    {
      "cell_type": "markdown",
      "source": [
        "タプル型"
      ],
      "metadata": {
        "id": "z0Ok6UItUBVR"
      }
    },
    {
      "cell_type": "code",
      "source": [
        "t = (5,10) \n",
        "print(t[0])\n",
        "t[0] = 100 # エラーになる"
      ],
      "metadata": {
        "colab": {
          "base_uri": "https://localhost:8080/",
          "height": 222
        },
        "id": "U8vOiyvISC77",
        "outputId": "b833d640-9c1b-4701-f21b-43513fb82fd4"
      },
      "execution_count": 15,
      "outputs": [
        {
          "output_type": "stream",
          "name": "stdout",
          "text": [
            "5\n"
          ]
        },
        {
          "output_type": "error",
          "ename": "TypeError",
          "evalue": "ignored",
          "traceback": [
            "\u001b[0;31m---------------------------------------------------------------------------\u001b[0m",
            "\u001b[0;31mTypeError\u001b[0m                                 Traceback (most recent call last)",
            "\u001b[0;32m<ipython-input-15-f873a8de4ea2>\u001b[0m in \u001b[0;36m<module>\u001b[0;34m()\u001b[0m\n\u001b[1;32m      1\u001b[0m \u001b[0mt\u001b[0m \u001b[0;34m=\u001b[0m \u001b[0;34m(\u001b[0m\u001b[0;36m5\u001b[0m\u001b[0;34m,\u001b[0m\u001b[0;36m10\u001b[0m\u001b[0;34m)\u001b[0m\u001b[0;34m\u001b[0m\u001b[0;34m\u001b[0m\u001b[0m\n\u001b[1;32m      2\u001b[0m \u001b[0mprint\u001b[0m\u001b[0;34m(\u001b[0m\u001b[0mt\u001b[0m\u001b[0;34m[\u001b[0m\u001b[0;36m0\u001b[0m\u001b[0;34m]\u001b[0m\u001b[0;34m)\u001b[0m\u001b[0;34m\u001b[0m\u001b[0;34m\u001b[0m\u001b[0m\n\u001b[0;32m----> 3\u001b[0;31m \u001b[0mt\u001b[0m\u001b[0;34m[\u001b[0m\u001b[0;36m0\u001b[0m\u001b[0;34m]\u001b[0m \u001b[0;34m=\u001b[0m \u001b[0;36m100\u001b[0m \u001b[0;31m# エラーになる\u001b[0m\u001b[0;34m\u001b[0m\u001b[0;34m\u001b[0m\u001b[0m\n\u001b[0m",
            "\u001b[0;31mTypeError\u001b[0m: 'tuple' object does not support item assignment"
          ]
        }
      ]
    },
    {
      "cell_type": "code",
      "source": [
        "t = 123, 555, 150, \"hello\"\n",
        "print(t[0])\n",
        "\n",
        "# タプルは入れ子もできます。\n",
        "t2 = t, (1,2,3)\n",
        "print(t2) # ((123, 555, 150, 'hello'), (1, 2, 3))\n",
        "\n",
        "# 1つ値のタプルは、カンマをつける必要があります。\n",
        "t3 = \"hello\",\n",
        "print(t3)\n",
        "print(type(t3))"
      ],
      "metadata": {
        "colab": {
          "base_uri": "https://localhost:8080/"
        },
        "id": "rVGaETEy8GMa",
        "outputId": "0f82746a-c93c-4636-b803-13e4320b6570"
      },
      "execution_count": 16,
      "outputs": [
        {
          "output_type": "stream",
          "name": "stdout",
          "text": [
            "123\n",
            "((123, 555, 150, 'hello'), (1, 2, 3))\n",
            "('hello',)\n",
            "<class 'tuple'>\n"
          ]
        }
      ]
    },
    {
      "cell_type": "markdown",
      "source": [
        "辞書型"
      ],
      "metadata": {
        "id": "F3SVhazAvLRU"
      }
    },
    {
      "cell_type": "code",
      "source": [
        "# nameがキーで、axrossが値。同じように、emailがキーで、axross-info@sbinnoventureが値\n",
        "profile = {'name': 'axross', 'email': \"axross-info@sbinnoventure\" }\n",
        "print(profile['name']) # axross\n",
        "\n",
        "# 新しく要素を追加\n",
        "profile['gender'] = 'male'\n",
        "\n",
        "# 新しく要素を追加した辞書型(profile)を出力\n",
        "print(profile)"
      ],
      "metadata": {
        "colab": {
          "base_uri": "https://localhost:8080/"
        },
        "id": "Jq4AbgnqSE30",
        "outputId": "234b748d-9509-4898-d39d-17dee487bd2b"
      },
      "execution_count": 17,
      "outputs": [
        {
          "output_type": "stream",
          "name": "stdout",
          "text": [
            "axross\n",
            "{'name': 'axross', 'email': 'axross-info@sbinnoventure', 'gender': 'male'}\n"
          ]
        }
      ]
    },
    {
      "cell_type": "markdown",
      "source": [
        "## Pythonのよく使う文法"
      ],
      "metadata": {
        "id": "JchZIK3ESOPg"
      }
    },
    {
      "cell_type": "markdown",
      "source": [
        "if 文"
      ],
      "metadata": {
        "id": "pd-qiutRvOYi"
      }
    },
    {
      "cell_type": "code",
      "source": [
        "\"\"\"\n",
        "if 条件:\n",
        "    # 条件がTrueの時に実行\n",
        "\"\"\"\n",
        "\n",
        "t = True\n",
        "if t:\n",
        "    print(\"Trueです\")\n",
        "\n",
        "t = True\n",
        "f = False\n",
        "\n",
        "if f: # FalseはTrueかどうか\n",
        "    print(\"Trueです\")\n",
        "else:\n",
        "    print(\"Falseです\")\n",
        "\n",
        "\"\"\"\n",
        "elifを記述することで、追加で条件式を追加できます。\n",
        "elifはif文の中でいくつあっても問題ありません。\n",
        "\"\"\"\n",
        "score = 90\n",
        "# score = 100\n",
        "\n",
        "if score == 100:\n",
        "    print(\"満点\")\n",
        "elif score > 85:\n",
        "    print(\"合格！\")\n",
        "else:\n",
        "    print(\"不合格。次回頑張りましょう。\")"
      ],
      "metadata": {
        "colab": {
          "base_uri": "https://localhost:8080/"
        },
        "id": "O-5DQn4fSNlz",
        "outputId": "9f80bacf-9ea9-4046-b974-b2fc54fdc9fb"
      },
      "execution_count": 18,
      "outputs": [
        {
          "output_type": "stream",
          "name": "stdout",
          "text": [
            "Trueです\n",
            "Falseです\n",
            "合格！\n"
          ]
        }
      ]
    },
    {
      "cell_type": "markdown",
      "source": [
        "論理演算子"
      ],
      "metadata": {
        "id": "8wvgH3KNvRMl"
      }
    },
    {
      "cell_type": "code",
      "source": [
        "a = 10\n",
        "b = 10\n",
        "if a == 10 and b == 10:\n",
        "    print(\"aとbも10です\")\n",
        "elif a == 10 or b == 10:\n",
        "    print(\"aもしくはbが10です\")\n",
        "else:\n",
        "    print(a,b)\n",
        "\n",
        "a = 12\n",
        "if 1 < a and a < 15:\n",
        "    print(\"1〜15\")\n",
        "else:\n",
        "    print(\"15以上\")"
      ],
      "metadata": {
        "colab": {
          "base_uri": "https://localhost:8080/"
        },
        "id": "6zlOQXXlSki9",
        "outputId": "06e04dd9-3846-4e44-e89a-c4f7496710ff"
      },
      "execution_count": 19,
      "outputs": [
        {
          "output_type": "stream",
          "name": "stdout",
          "text": [
            "aとbも10です\n",
            "1〜15\n"
          ]
        }
      ]
    },
    {
      "cell_type": "markdown",
      "source": [
        "for 文"
      ],
      "metadata": {
        "id": "PCs9q2J0vTkz"
      }
    },
    {
      "cell_type": "code",
      "source": [
        "for i in range(0,5): # 0から5未満(4まで)を繰り返す\n",
        "    # ループ内変数iに1~4までの数字が生成され、ループ毎に1つ1つ代入されます。(最初のループでは0が代入されます。)\n",
        "    print(i)"
      ],
      "metadata": {
        "colab": {
          "base_uri": "https://localhost:8080/"
        },
        "id": "FN4CBB0fSmoR",
        "outputId": "6c7d2e01-47db-4727-e7df-0ebfa0193a15"
      },
      "execution_count": 20,
      "outputs": [
        {
          "output_type": "stream",
          "name": "stdout",
          "text": [
            "0\n",
            "1\n",
            "2\n",
            "3\n",
            "4\n"
          ]
        }
      ]
    },
    {
      "cell_type": "markdown",
      "source": [
        "関数"
      ],
      "metadata": {
        "id": "qn_kVPAkvVUq"
      }
    },
    {
      "cell_type": "code",
      "source": [
        "\"\"\"\n",
        "def 関数名(引数名1, 引数名2, ...):\n",
        "    # 処理を書く\n",
        "\n",
        "関数名() # 関数名()で関数を実行できる\n",
        "\"\"\"\n",
        "\n",
        "# hello関数の定義\n",
        "def hello():\n",
        "    print(\"Hello!!\")\n",
        "\n",
        "# 関数呼び出し\n",
        "hello() # 関数名()で呼び出せる\n",
        "\n",
        "# 引数とデフォルト値\n",
        "\n",
        "# 関数の定義 名無し（ななし）という文字列を初期引数として渡す。\n",
        "def say_hello(name=\"ななしさん\"):\n",
        "    print(\"こんにちは、\",name)\n",
        "\n",
        "# 以下、関数呼び出し\n",
        "say_hello(\"藤原\")\n",
        "say_hello(\"加藤\")\n",
        "say_hello(\"鈴木\")\n",
        "say_hello()"
      ],
      "metadata": {
        "colab": {
          "base_uri": "https://localhost:8080/"
        },
        "id": "tyFPcJm0Ssme",
        "outputId": "0cd6b784-88ec-4550-c781-cceaadcfffed"
      },
      "execution_count": 21,
      "outputs": [
        {
          "output_type": "stream",
          "name": "stdout",
          "text": [
            "Hello!!\n",
            "こんにちは、 藤原\n",
            "こんにちは、 加藤\n",
            "こんにちは、 鈴木\n",
            "こんにちは、 ななしさん\n"
          ]
        }
      ]
    },
    {
      "cell_type": "code",
      "source": [
        "\"\"\"\n",
        "def 関数名(引数名1, 引数名2, ...):\n",
        "    # 処理を書く\n",
        "    return 【返り値】\n",
        "\"\"\"\n",
        "\n",
        "def adder(a, b):\n",
        "    return a+b\n",
        "\n",
        "print(adder(5,10)) # 15が出力される\n",
        "\n",
        "def power(x):\n",
        "    return x*x\n",
        "\n",
        "def absolute(x):\n",
        "    if (x < 0):\n",
        "        return -x\n",
        "    else:\n",
        "        return x\n",
        "\n",
        "print(power(10)) # 100\n",
        "print(absolute(-10)) # 10"
      ],
      "metadata": {
        "colab": {
          "base_uri": "https://localhost:8080/"
        },
        "id": "guR39WtGSuDy",
        "outputId": "1c73661d-32e2-478a-d0ca-95b3e3dd1a14"
      },
      "execution_count": 22,
      "outputs": [
        {
          "output_type": "stream",
          "name": "stdout",
          "text": [
            "15\n",
            "100\n",
            "10\n"
          ]
        }
      ]
    },
    {
      "cell_type": "code",
      "source": [
        ""
      ],
      "metadata": {
        "id": "5TqVffWuS09o"
      },
      "execution_count": null,
      "outputs": []
    }
  ]
}